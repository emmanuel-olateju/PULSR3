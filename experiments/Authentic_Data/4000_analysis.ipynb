{
 "cells": [
  {
   "cell_type": "code",
   "execution_count": 10,
   "metadata": {},
   "outputs": [],
   "source": [
    "import pandas as pd\n",
    "Redmi9A_data = pd.read_csv(\"4000_samples_redmi9A.csv\")\n",
    "Nokia_3310_data = pd.read_csv(\"4000_samples_NOKIA3310.csv\")\n",
    "weight_150g_data = pd.read_csv(\"4000_samples_150g.csv\")\n",
    "samsungA12_data = pd.read_csv(\"4000_samples_SamsungA12.csv\")\n",
    "iphone7_data = pd.read_csv(\"4000_samples_iphone7.csv\")\n",
    "iphone11_data = pd.read_csv(\"4000_samples_iphone11.csv\")\n",
    "infinix_data2 = pd.read_csv(\"4000_samples_Infinix_Smart7repeat.csv\")\n",
    "infinix_data = pd.read_csv(\"4000_samples_infinix_smart7.csv\")"
   ]
  },
  {
   "cell_type": "code",
   "execution_count": 17,
   "metadata": {},
   "outputs": [],
   "source": [
    "Redmi9A_data_mean = Redmi9A_data['Redmi9A'].mean()\n",
    "Nokia_3310_data_mean = Nokia_3310_data['NOKIA'].mean()\n",
    "weight_150g_data_mean = weight_150g_data['150g_weight'].mean()\n",
    "samsungA12_data_mean = samsungA12_data['SamsungA12'].mean()\n",
    "iphone7_data_mean = iphone7_data['Iphone7'].mean()\n",
    "iphone11_data_mean = iphone11_data['Iphone11'].mean()\n",
    "infinix_data2_mean = infinix_data2['Infinix'].mean()\n",
    "infinix_data_mean = infinix_data['Infinix'].mean()"
   ]
  },
  {
   "cell_type": "code",
   "execution_count": 12,
   "metadata": {},
   "outputs": [
    {
     "name": "stdout",
     "output_type": "stream",
     "text": [
      "7463.5175262894345\n",
      "10456.327067669174\n",
      "8572.600750938673\n",
      "7982.593390085128\n",
      "9073.78938141748\n",
      "7893.84501752629\n",
      "7745.856821026283\n",
      "7706.211587544665\n"
     ]
    }
   ],
   "source": [
    "total_mean = [Redmi9A_data_mean,Nokia_3310_data_mean,weight_150g_data_mean,samsungA12_data_mean,iphone7_data_mean,iphone11_data_mean,infinix_data2_mean,infinix_data_mean]\n",
    "\n",
    "for i in range(8):\n",
    "    print(total_mean[i])"
   ]
  },
  {
   "cell_type": "code",
   "execution_count": 13,
   "metadata": {},
   "outputs": [],
   "source": [
    "Redmi9A_data_std = Redmi9A_data['Redmi9A'].std()\n",
    "Nokia_3310_data_std = Nokia_3310_data['NOKIA'].std()\n",
    "weight_150g_data_std = weight_150g_data['150g_weight'].std()\n",
    "samsungA12_data_std = samsungA12_data['SamsungA12'].std()\n",
    "iphone7_data_std = iphone7_data['Iphone7'].std()\n",
    "iphone11_data_std = iphone11_data['Iphone11'].std()\n",
    "infinix_data2_std = infinix_data2['Infinix'].std()\n",
    "infinix_data_std = infinix_data['Infinix'].std()"
   ]
  },
  {
   "cell_type": "code",
   "execution_count": 14,
   "metadata": {},
   "outputs": [
    {
     "name": "stdout",
     "output_type": "stream",
     "text": [
      "83.89505637483742\n",
      "77.36817555877535\n",
      "81.0699516159922\n",
      "143.45060316563527\n",
      "245.06777612986534\n",
      "112.55592712399122\n",
      "88.45933684287371\n",
      "109.79477384626581\n"
     ]
    }
   ],
   "source": [
    "total_std = [Redmi9A_data_std,Nokia_3310_data_std,weight_150g_data_std,samsungA12_data_std,iphone7_data_std,iphone11_data_std,infinix_data_std,infinix_data2_std]\n",
    "for i in range(8):\n",
    "    print(total_std[i])"
   ]
  },
  {
   "cell_type": "code",
   "execution_count": 29,
   "metadata": {},
   "outputs": [],
   "source": [
    "conv_factor_data_redmi = Redmi9A_data_mean/196\n",
    "conv_factor_data_Nokia = Nokia_3310_data_mean/133\n",
    "conv_factor_data_150g  = weight_150g_data_mean/150\n",
    "conv_factor_data_samsungA12 = samsungA12_data_mean/205\n",
    "conv_factor_data_iphone7 = iphone7_data_mean/138\n",
    "conv_factor_data_iphone11 = iphone11_data_mean/194\n",
    "conv_factor_data_infinix = infinix_data_mean/195\n",
    "conv_factor_data_infinix_2 = infinix_data2_mean/195\n"
   ]
  },
  {
   "cell_type": "code",
   "execution_count": 26,
   "metadata": {},
   "outputs": [
    {
     "name": "stdout",
     "output_type": "stream",
     "text": [
      "Conv_factor_mean:  49.808964922200566\n"
     ]
    }
   ],
   "source": [
    "conv_factor_total = conv_factor_data_redmi+conv_factor_data_Nokia+conv_factor_data_150g+conv_factor_data_samsungA12+conv_factor_data_iphone7+conv_factor_data_iphone11+conv_factor_data_infinix+conv_factor_data_infinix_2\n",
    "conv_factor_mean = conv_factor_total / 8\n",
    "print('Conv_factor_mean: ',conv_factor_mean)"
   ]
  },
  {
   "cell_type": "code",
   "execution_count": 28,
   "metadata": {},
   "outputs": [
    {
     "name": "stdout",
     "output_type": "stream",
     "text": [
      "Conv_factor Standard Deviation:  15.513199894193546\n"
     ]
    }
   ],
   "source": [
    "conv_factor_data = [conv_factor_data_redmi,conv_factor_data_Nokia,conv_factor_data_150g,conv_factor_data_samsungA12,conv_factor_data_iphone7,conv_factor_data_iphone11,conv_factor_data_infinix,conv_factor_data_infinix_2]\n",
    "pd_data = pd.DataFrame({'Conv_Factor':conv_factor_data})\n",
    "conv_factor_std = pd_data['Conv_Factor'].std()\n",
    "print(\"Conv_factor Standard Deviation: \",conv_factor_std)"
   ]
  },
  {
   "cell_type": "code",
   "execution_count": 31,
   "metadata": {},
   "outputs": [
    {
     "data": {
      "text/html": [
       "<div>\n",
       "<style scoped>\n",
       "    .dataframe tbody tr th:only-of-type {\n",
       "        vertical-align: middle;\n",
       "    }\n",
       "\n",
       "    .dataframe tbody tr th {\n",
       "        vertical-align: top;\n",
       "    }\n",
       "\n",
       "    .dataframe thead th {\n",
       "        text-align: right;\n",
       "    }\n",
       "</style>\n",
       "<table border=\"1\" class=\"dataframe\">\n",
       "  <thead>\n",
       "    <tr style=\"text-align: right;\">\n",
       "      <th></th>\n",
       "      <th>Mean</th>\n",
       "      <th>Standard_Deviation</th>\n",
       "      <th>Conversion_Factor</th>\n",
       "      <th>Weight_Online(g)</th>\n",
       "    </tr>\n",
       "  </thead>\n",
       "  <tbody>\n",
       "    <tr>\n",
       "      <th>Redmi9A</th>\n",
       "      <td>7463.517526</td>\n",
       "      <td>83.895056</td>\n",
       "      <td>38.079171</td>\n",
       "      <td>196</td>\n",
       "    </tr>\n",
       "    <tr>\n",
       "      <th>Nokia_3310</th>\n",
       "      <td>10456.327068</td>\n",
       "      <td>77.368176</td>\n",
       "      <td>78.619001</td>\n",
       "      <td>133</td>\n",
       "    </tr>\n",
       "    <tr>\n",
       "      <th>150g_metal</th>\n",
       "      <td>8572.600751</td>\n",
       "      <td>81.069952</td>\n",
       "      <td>57.150672</td>\n",
       "      <td>150</td>\n",
       "    </tr>\n",
       "    <tr>\n",
       "      <th>Samsung_A12</th>\n",
       "      <td>7982.593390</td>\n",
       "      <td>143.450603</td>\n",
       "      <td>38.939480</td>\n",
       "      <td>205</td>\n",
       "    </tr>\n",
       "    <tr>\n",
       "      <th>Iphone7</th>\n",
       "      <td>9073.789381</td>\n",
       "      <td>245.067776</td>\n",
       "      <td>65.752097</td>\n",
       "      <td>138</td>\n",
       "    </tr>\n",
       "    <tr>\n",
       "      <th>Iphone11</th>\n",
       "      <td>7893.845018</td>\n",
       "      <td>112.555927</td>\n",
       "      <td>40.689923</td>\n",
       "      <td>194</td>\n",
       "    </tr>\n",
       "    <tr>\n",
       "      <th>Infinix_Smart_7</th>\n",
       "      <td>7745.856821</td>\n",
       "      <td>88.459337</td>\n",
       "      <td>39.519034</td>\n",
       "      <td>195</td>\n",
       "    </tr>\n",
       "    <tr>\n",
       "      <th>Infinix_Smart_7_Repeat</th>\n",
       "      <td>7706.211588</td>\n",
       "      <td>109.794774</td>\n",
       "      <td>39.722343</td>\n",
       "      <td>195</td>\n",
       "    </tr>\n",
       "  </tbody>\n",
       "</table>\n",
       "</div>"
      ],
      "text/plain": [
       "                                Mean  Standard_Deviation  Conversion_Factor  \\\n",
       "Redmi9A                  7463.517526           83.895056          38.079171   \n",
       "Nokia_3310              10456.327068           77.368176          78.619001   \n",
       "150g_metal               8572.600751           81.069952          57.150672   \n",
       "Samsung_A12              7982.593390          143.450603          38.939480   \n",
       "Iphone7                  9073.789381          245.067776          65.752097   \n",
       "Iphone11                 7893.845018          112.555927          40.689923   \n",
       "Infinix_Smart_7          7745.856821           88.459337          39.519034   \n",
       "Infinix_Smart_7_Repeat   7706.211588          109.794774          39.722343   \n",
       "\n",
       "                        Weight_Online(g)  \n",
       "Redmi9A                              196  \n",
       "Nokia_3310                           133  \n",
       "150g_metal                           150  \n",
       "Samsung_A12                          205  \n",
       "Iphone7                              138  \n",
       "Iphone11                             194  \n",
       "Infinix_Smart_7                      195  \n",
       "Infinix_Smart_7_Repeat               195  "
      ]
     },
     "execution_count": 31,
     "metadata": {},
     "output_type": "execute_result"
    }
   ],
   "source": [
    "data = {'Mean':total_mean,'Standard_Deviation':total_std,'Conversion_Factor':conv_factor_data,'Weight_Online(g)':[196,133,150,205,138,194,195,195]}\n",
    "df = pd.DataFrame(data,index=['Redmi9A','Nokia_3310','150g_metal','Samsung_A12','Iphone7','Iphone11','Infinix_Smart_7','Infinix_Smart_7_Repeat'])\n",
    "df"
   ]
  },
  {
   "cell_type": "code",
   "execution_count": 36,
   "metadata": {},
   "outputs": [
    {
     "data": {
      "text/plain": [
       "Redmi9A                  -0.988759\n",
       "Nokia_3310               -0.992601\n",
       "150g_metal               -0.990543\n",
       "Samsung_A12              -0.982030\n",
       "Iphone7                  -0.972992\n",
       "Iphone11                 -0.985741\n",
       "Infinix_Smart_7          -0.988580\n",
       "Infinix_Smart_7_Repeat   -0.985752\n",
       "dtype: float64"
      ]
     },
     "execution_count": 36,
     "metadata": {},
     "output_type": "execute_result"
    }
   ],
   "source": [
    "scaled_sd= (df['Standard_Deviation']-df.Mean)/df.Mean\n",
    "scaled_sd\n"
   ]
  },
  {
   "cell_type": "code",
   "execution_count": 41,
   "metadata": {},
   "outputs": [
    {
     "data": {
      "text/plain": [
       "Redmi9A                   1.124069\n",
       "Nokia_3310                0.739917\n",
       "150g_metal                0.945687\n",
       "Samsung_A12               1.797043\n",
       "Iphone7                   2.700832\n",
       "Iphone11                  1.425869\n",
       "Infinix_Smart_7           1.142021\n",
       "Infinix_Smart_7_Repeat    1.424757\n",
       "dtype: float64"
      ]
     },
     "execution_count": 41,
     "metadata": {},
     "output_type": "execute_result"
    }
   ],
   "source": [
    "CI = ((df['Standard_Deviation'])/df.Mean) *100\n",
    "CI"
   ]
  },
  {
   "cell_type": "code",
   "execution_count": null,
   "metadata": {},
   "outputs": [],
   "source": []
  }
 ],
 "metadata": {
  "kernelspec": {
   "display_name": "base",
   "language": "python",
   "name": "python3"
  },
  "language_info": {
   "codemirror_mode": {
    "name": "ipython",
    "version": 3
   },
   "file_extension": ".py",
   "mimetype": "text/x-python",
   "name": "python",
   "nbconvert_exporter": "python",
   "pygments_lexer": "ipython3",
   "version": "3.9.12"
  },
  "orig_nbformat": 4
 },
 "nbformat": 4,
 "nbformat_minor": 2
}
