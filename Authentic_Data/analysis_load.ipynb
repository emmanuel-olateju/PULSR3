{
 "cells": [
  {
   "cell_type": "code",
   "execution_count": 51,
   "metadata": {},
   "outputs": [
    {
     "data": {
      "text/html": [
       "<div>\n",
       "<style scoped>\n",
       "    .dataframe tbody tr th:only-of-type {\n",
       "        vertical-align: middle;\n",
       "    }\n",
       "\n",
       "    .dataframe tbody tr th {\n",
       "        vertical-align: top;\n",
       "    }\n",
       "\n",
       "    .dataframe thead th {\n",
       "        text-align: right;\n",
       "    }\n",
       "</style>\n",
       "<table border=\"1\" class=\"dataframe\">\n",
       "  <thead>\n",
       "    <tr style=\"text-align: right;\">\n",
       "      <th></th>\n",
       "      <th>No_Weight</th>\n",
       "      <th>Weight: 0g</th>\n",
       "    </tr>\n",
       "  </thead>\n",
       "  <tbody>\n",
       "    <tr>\n",
       "      <th>0</th>\n",
       "      <td>12488</td>\n",
       "      <td>0g</td>\n",
       "    </tr>\n",
       "    <tr>\n",
       "      <th>1</th>\n",
       "      <td>12348</td>\n",
       "      <td>0g</td>\n",
       "    </tr>\n",
       "    <tr>\n",
       "      <th>2</th>\n",
       "      <td>12408</td>\n",
       "      <td>0g</td>\n",
       "    </tr>\n",
       "    <tr>\n",
       "      <th>3</th>\n",
       "      <td>12425</td>\n",
       "      <td>0g</td>\n",
       "    </tr>\n",
       "    <tr>\n",
       "      <th>4</th>\n",
       "      <td>12460</td>\n",
       "      <td>0g</td>\n",
       "    </tr>\n",
       "    <tr>\n",
       "      <th>...</th>\n",
       "      <td>...</td>\n",
       "      <td>...</td>\n",
       "    </tr>\n",
       "    <tr>\n",
       "      <th>489</th>\n",
       "      <td>12631</td>\n",
       "      <td>0g</td>\n",
       "    </tr>\n",
       "    <tr>\n",
       "      <th>490</th>\n",
       "      <td>12616</td>\n",
       "      <td>0g</td>\n",
       "    </tr>\n",
       "    <tr>\n",
       "      <th>491</th>\n",
       "      <td>12703</td>\n",
       "      <td>0g</td>\n",
       "    </tr>\n",
       "    <tr>\n",
       "      <th>492</th>\n",
       "      <td>12678</td>\n",
       "      <td>0g</td>\n",
       "    </tr>\n",
       "    <tr>\n",
       "      <th>493</th>\n",
       "      <td>12603</td>\n",
       "      <td>0g</td>\n",
       "    </tr>\n",
       "  </tbody>\n",
       "</table>\n",
       "<p>494 rows × 2 columns</p>\n",
       "</div>"
      ],
      "text/plain": [
       "     No_Weight Weight: 0g\n",
       "0        12488         0g\n",
       "1        12348         0g\n",
       "2        12408         0g\n",
       "3        12425         0g\n",
       "4        12460         0g\n",
       "..         ...        ...\n",
       "489      12631         0g\n",
       "490      12616         0g\n",
       "491      12703         0g\n",
       "492      12678         0g\n",
       "493      12603         0g\n",
       "\n",
       "[494 rows x 2 columns]"
      ]
     },
     "execution_count": 51,
     "metadata": {},
     "output_type": "execute_result"
    }
   ],
   "source": [
    "\n",
    "import pandas as pd \n",
    "data_no_load = pd.read_csv(\"random.csv\")\n",
    "data_150g = pd.read_csv(\"random_150g.csv\")\n",
    "infinix_data = pd.read_csv(\"random_infinix_Smart_6.csv\")\n",
    "iphone_7_data = pd.read_csv(\"random_iphone7.csv\")\n",
    "redmi_data = pd.read_csv(\"random_Redmi9A.csv\")\n",
    "iphone14_data = pd.read_csv(\"random_iphone14.csv\")\n",
    "iphone_XS_max_data = pd.read_csv(\"random_iphoneXS_max.csv\")\n",
    "water_bottle = pd.read_csv(\"water_bottle.csv\")\n",
    "redmi_data2 = pd.read_csv(\"redmi9A_repeat.csv\")\n",
    "data_no_load\n"
   ]
  },
  {
   "cell_type": "code",
   "execution_count": 50,
   "metadata": {},
   "outputs": [
    {
     "data": {
      "text/plain": [
       "(494, 2)"
      ]
     },
     "execution_count": 50,
     "metadata": {},
     "output_type": "execute_result"
    }
   ],
   "source": [
    "data_no_load.shape"
   ]
  },
  {
   "cell_type": "code",
   "execution_count": null,
   "metadata": {},
   "outputs": [],
   "source": []
  },
  {
   "cell_type": "code",
   "execution_count": 26,
   "metadata": {},
   "outputs": [
    {
     "name": "stdout",
     "output_type": "stream",
     "text": [
      "9656.834008097167\n",
      "8052.402834008097\n",
      "8216.738866396761\n",
      "8208.931174089068\n",
      "9896.711382113821\n",
      "8789.923076923076\n",
      "8314.78947368421\n",
      "-3899.3016194331985\n"
     ]
    }
   ],
   "source": [
    "# data_no_load_mean = data_no_load['No_Weight'].mean()\n",
    "data_150g_mean = data_150g[\"150g\"].mean()\n",
    "infinix_data_mean = infinix_data['random_infinix_Smart_6'].mean()\n",
    "redmi_data_mean = redmi_data['Redmi_9A'].mean()\n",
    "redmi_data2_mean = redmi_data2['redmi9A_repeat'].mean()\n",
    "iphone7_data_mean = iphone_7_data['Iphone7'].mean()\n",
    "iphone14_data_mean = iphone14_data['random_iphone14'].mean()\n",
    "iphone_XS_max_data_mean = iphone_XS_max_data['random_iphoneXS_max'].mean()\n",
    "water_bottle_mean = water_bottle['water_bottle'].mean()\n",
    "\n",
    "total_mean = [infinix_data_mean,redmi_data_mean,redmi_data2_mean,iphone7_data_mean,iphone_XS_max_data_mean,iphone14_data_mean,water_bottle_mean,data_150g_mean]\n",
    "\n",
    "for i in range(8):\n",
    "    print(total_mean[i])\n",
    "\n",
    "\n"
   ]
  },
  {
   "cell_type": "code",
   "execution_count": 37,
   "metadata": {},
   "outputs": [
    {
     "name": "stdout",
     "output_type": "stream",
     "text": [
      "111.35871934110433\n",
      "87.96967615289135\n",
      "174.97486147997716\n",
      "110.87467209098878\n",
      "102.48601331485897\n",
      "76.44401707034255\n",
      "118.20070150191057\n",
      "72.22896303241704\n"
     ]
    }
   ],
   "source": [
    "\n",
    "infinix_data_std = infinix_data['random_infinix_Smart_6'].std()\n",
    "redmi_data_std = redmi_data['Redmi_9A'].std()\n",
    "redmi_data2_std = redmi_data2['redmi9A_repeat'].std()\n",
    "iphone_XS_max_data_std= iphone_XS_max_data['random_iphoneXS_max'].std()\n",
    "iphone7_data_std = iphone_7_data['Iphone7'].std()\n",
    "water_bottle_std= water_bottle['water_bottle'].std()\n",
    "iphone14_data_std = iphone14_data['random_iphone14'].std()\n",
    "data_150g_std = data_150g[\"150g\"].std()\n",
    "# data_no_load_std = data_no_load['No_Weight'].std()\n",
    "\n",
    "total_std = [infinix_data_std,redmi_data_std,redmi_data2_std,iphone_XS_max_data_std,iphone7_data_std,water_bottle_std,iphone14_data_std,data_150g_std]\n",
    "for i in range(8):\n",
    "    print(total_std[i])"
   ]
  },
  {
   "cell_type": "code",
   "execution_count": 38,
   "metadata": {},
   "outputs": [],
   "source": [
    "conv_factor_infinix_data = infinix_data_mean/195\n",
    "conv_factor_data_redmi = redmi_data_mean/194\n",
    "conv_factor_data2_redmi = redmi_data2_mean/194\n",
    "conv_factor_data_iphoneXS_max = iphone_XS_max_data_mean/208\n",
    "conv_factor_data_iphone7 = iphone7_data_mean/194\n",
    "conv_factor_data_water_bottle = water_bottle_mean/750\n",
    "conv_factor_data_iphone14 = iphone14_data_mean/172\n",
    "conv_factor_data150 = data_150g_mean/150"
   ]
  },
  {
   "cell_type": "code",
   "execution_count": 39,
   "metadata": {},
   "outputs": [
    {
     "name": "stdout",
     "output_type": "stream",
     "text": [
      "Conv_factor_mean:  40.90446623305721\n"
     ]
    }
   ],
   "source": [
    "conv_factor_total= conv_factor_infinix_data + conv_factor_data_redmi + conv_factor_data2_redmi + conv_factor_data_iphoneXS_max+conv_factor_data_iphone7+conv_factor_data_water_bottle+conv_factor_data_iphone14 + conv_factor_data150\n",
    "conv_factor_mean = conv_factor_total/8\n",
    "print('Conv_factor_mean: ',conv_factor_mean)"
   ]
  },
  {
   "cell_type": "code",
   "execution_count": 42,
   "metadata": {},
   "outputs": [
    {
     "name": "stdout",
     "output_type": "stream",
     "text": [
      "Conv_factor Standard Deviation:  20.31159640254493\n"
     ]
    }
   ],
   "source": [
    "conv_factor_data = [conv_factor_infinix_data , conv_factor_data_redmi , conv_factor_data2_redmi , conv_factor_data_iphoneXS_max,conv_factor_data_iphone7,conv_factor_data_water_bottle,conv_factor_data_iphone14,conv_factor_data150]\n",
    "\n",
    "pd_data= pd.DataFrame({'Conv_Factor':conv_factor_data})\n",
    "conv_factor_std = pd_data['Conv_Factor'].std()\n",
    "print(\"Conv_factor Standard Deviation: \",conv_factor_std)"
   ]
  },
  {
   "cell_type": "code",
   "execution_count": 43,
   "metadata": {},
   "outputs": [
    {
     "data": {
      "text/html": [
       "<div>\n",
       "<style scoped>\n",
       "    .dataframe tbody tr th:only-of-type {\n",
       "        vertical-align: middle;\n",
       "    }\n",
       "\n",
       "    .dataframe tbody tr th {\n",
       "        vertical-align: top;\n",
       "    }\n",
       "\n",
       "    .dataframe thead th {\n",
       "        text-align: right;\n",
       "    }\n",
       "</style>\n",
       "<table border=\"1\" class=\"dataframe\">\n",
       "  <thead>\n",
       "    <tr style=\"text-align: right;\">\n",
       "      <th></th>\n",
       "      <th>Mean</th>\n",
       "      <th>Standard Deviation</th>\n",
       "      <th>Conversion Factor</th>\n",
       "    </tr>\n",
       "  </thead>\n",
       "  <tbody>\n",
       "    <tr>\n",
       "      <th>Infinix</th>\n",
       "      <td>9656.834008</td>\n",
       "      <td>111.358719</td>\n",
       "      <td>41.294374</td>\n",
       "    </tr>\n",
       "    <tr>\n",
       "      <th>Redmi 9A</th>\n",
       "      <td>8052.402834</td>\n",
       "      <td>87.969676</td>\n",
       "      <td>42.354324</td>\n",
       "    </tr>\n",
       "    <tr>\n",
       "      <th>Redmi2 9A</th>\n",
       "      <td>8216.738866</td>\n",
       "      <td>174.974861</td>\n",
       "      <td>42.314078</td>\n",
       "    </tr>\n",
       "    <tr>\n",
       "      <th>IphoneXS Max</th>\n",
       "      <td>8208.931174</td>\n",
       "      <td>110.874672</td>\n",
       "      <td>39.974949</td>\n",
       "    </tr>\n",
       "    <tr>\n",
       "      <th>Iphone7</th>\n",
       "      <td>9896.711382</td>\n",
       "      <td>102.486013</td>\n",
       "      <td>51.013976</td>\n",
       "    </tr>\n",
       "    <tr>\n",
       "      <th>Water Bottle</th>\n",
       "      <td>8789.923077</td>\n",
       "      <td>76.444017</td>\n",
       "      <td>-5.199069</td>\n",
       "    </tr>\n",
       "    <tr>\n",
       "      <th>Iphone14</th>\n",
       "      <td>8314.789474</td>\n",
       "      <td>118.200702</td>\n",
       "      <td>51.104204</td>\n",
       "    </tr>\n",
       "    <tr>\n",
       "      <th>150g_Metal</th>\n",
       "      <td>-3899.301619</td>\n",
       "      <td>72.228963</td>\n",
       "      <td>64.378893</td>\n",
       "    </tr>\n",
       "  </tbody>\n",
       "</table>\n",
       "</div>"
      ],
      "text/plain": [
       "                     Mean  Standard Deviation  Conversion Factor\n",
       "Infinix       9656.834008          111.358719          41.294374\n",
       "Redmi 9A      8052.402834           87.969676          42.354324\n",
       "Redmi2 9A     8216.738866          174.974861          42.314078\n",
       "IphoneXS Max  8208.931174          110.874672          39.974949\n",
       "Iphone7       9896.711382          102.486013          51.013976\n",
       "Water Bottle  8789.923077           76.444017          -5.199069\n",
       "Iphone14      8314.789474          118.200702          51.104204\n",
       "150g_Metal   -3899.301619           72.228963          64.378893"
      ]
     },
     "execution_count": 43,
     "metadata": {},
     "output_type": "execute_result"
    }
   ],
   "source": [
    "data = {'Mean':total_mean,'Standard Deviation':total_std,'Conversion Factor':conv_factor_data}\n",
    "df = pd.DataFrame(data, index = ['Infinix','Redmi 9A','Redmi2 9A','IphoneXS Max','Iphone7','Water Bottle','Iphone14','150g_Metal'])\n",
    "df"
   ]
  },
  {
   "cell_type": "code",
   "execution_count": 45,
   "metadata": {},
   "outputs": [],
   "source": [
    "df = df.drop(index='Water Bottle')"
   ]
  },
  {
   "cell_type": "code",
   "execution_count": 46,
   "metadata": {},
   "outputs": [
    {
     "data": {
      "text/html": [
       "<div>\n",
       "<style scoped>\n",
       "    .dataframe tbody tr th:only-of-type {\n",
       "        vertical-align: middle;\n",
       "    }\n",
       "\n",
       "    .dataframe tbody tr th {\n",
       "        vertical-align: top;\n",
       "    }\n",
       "\n",
       "    .dataframe thead th {\n",
       "        text-align: right;\n",
       "    }\n",
       "</style>\n",
       "<table border=\"1\" class=\"dataframe\">\n",
       "  <thead>\n",
       "    <tr style=\"text-align: right;\">\n",
       "      <th></th>\n",
       "      <th>Mean</th>\n",
       "      <th>Standard Deviation</th>\n",
       "      <th>Conversion Factor</th>\n",
       "    </tr>\n",
       "  </thead>\n",
       "  <tbody>\n",
       "    <tr>\n",
       "      <th>Infinix</th>\n",
       "      <td>9656.834008</td>\n",
       "      <td>111.358719</td>\n",
       "      <td>41.294374</td>\n",
       "    </tr>\n",
       "    <tr>\n",
       "      <th>Redmi 9A</th>\n",
       "      <td>8052.402834</td>\n",
       "      <td>87.969676</td>\n",
       "      <td>42.354324</td>\n",
       "    </tr>\n",
       "    <tr>\n",
       "      <th>Redmi2 9A</th>\n",
       "      <td>8216.738866</td>\n",
       "      <td>174.974861</td>\n",
       "      <td>42.314078</td>\n",
       "    </tr>\n",
       "    <tr>\n",
       "      <th>IphoneXS Max</th>\n",
       "      <td>8208.931174</td>\n",
       "      <td>110.874672</td>\n",
       "      <td>39.974949</td>\n",
       "    </tr>\n",
       "    <tr>\n",
       "      <th>Iphone7</th>\n",
       "      <td>9896.711382</td>\n",
       "      <td>102.486013</td>\n",
       "      <td>51.013976</td>\n",
       "    </tr>\n",
       "    <tr>\n",
       "      <th>Iphone14</th>\n",
       "      <td>8314.789474</td>\n",
       "      <td>118.200702</td>\n",
       "      <td>51.104204</td>\n",
       "    </tr>\n",
       "    <tr>\n",
       "      <th>150g_Metal</th>\n",
       "      <td>-3899.301619</td>\n",
       "      <td>72.228963</td>\n",
       "      <td>64.378893</td>\n",
       "    </tr>\n",
       "  </tbody>\n",
       "</table>\n",
       "</div>"
      ],
      "text/plain": [
       "                     Mean  Standard Deviation  Conversion Factor\n",
       "Infinix       9656.834008          111.358719          41.294374\n",
       "Redmi 9A      8052.402834           87.969676          42.354324\n",
       "Redmi2 9A     8216.738866          174.974861          42.314078\n",
       "IphoneXS Max  8208.931174          110.874672          39.974949\n",
       "Iphone7       9896.711382          102.486013          51.013976\n",
       "Iphone14      8314.789474          118.200702          51.104204\n",
       "150g_Metal   -3899.301619           72.228963          64.378893"
      ]
     },
     "execution_count": 46,
     "metadata": {},
     "output_type": "execute_result"
    }
   ],
   "source": [
    "df"
   ]
  },
  {
   "cell_type": "code",
   "execution_count": 49,
   "metadata": {},
   "outputs": [
    {
     "data": {
      "text/plain": [
       "Infinix        -0.988468\n",
       "Redmi 9A       -0.989075\n",
       "Redmi2 9A      -0.978705\n",
       "IphoneXS Max   -0.986493\n",
       "Iphone7        -0.989644\n",
       "Iphone14       -0.985784\n",
       "150g_Metal     -1.018524\n",
       "dtype: float64"
      ]
     },
     "execution_count": 49,
     "metadata": {},
     "output_type": "execute_result"
    }
   ],
   "source": [
    "(df['Standard Deviation']-df.Mean)/df.Mean"
   ]
  },
  {
   "cell_type": "code",
   "execution_count": null,
   "metadata": {},
   "outputs": [],
   "source": []
  }
 ],
 "metadata": {
  "kernelspec": {
   "display_name": "base",
   "language": "python",
   "name": "python3"
  },
  "language_info": {
   "codemirror_mode": {
    "name": "ipython",
    "version": 3
   },
   "file_extension": ".py",
   "mimetype": "text/x-python",
   "name": "python",
   "nbconvert_exporter": "python",
   "pygments_lexer": "ipython3",
   "version": "3.9.12"
  },
  "orig_nbformat": 4
 },
 "nbformat": 4,
 "nbformat_minor": 2
}
