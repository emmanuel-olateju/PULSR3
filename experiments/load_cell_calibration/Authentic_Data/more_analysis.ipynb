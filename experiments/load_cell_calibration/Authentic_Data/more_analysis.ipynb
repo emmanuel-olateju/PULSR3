{
 "cells": [
  {
   "cell_type": "code",
   "execution_count": 40,
   "metadata": {},
   "outputs": [],
   "source": [
    "import pandas as pd\n",
    "Redmi9A_data = pd.read_csv(\"2000_random_Redmi9A.csv\")\n",
    "Redmi9A_data2 = pd.read_csv(\"2000_redmi9A_repeat.csv\")\n",
    "weight_150g_data = pd.read_csv(\"2000_samples_150g.csv\")\n",
    "samsungA12_data = pd.read_csv(\"2000_samples_alabi_iphone11.csv\")\n",
    "iphone7_data = pd.read_csv(\"2000_samples_iphone7.csv\")\n",
    "iphone12_Pro_data = pd.read_csv(\"2000_samples_iphoneAhmad.csv\")\n",
    "iphone13_data = pd.read_csv(\"2000_samples_iphone13.csv\")\n",
    "infinix_data = pd.read_csv(\"2000_samples_infinix_smart.csv\")\n"
   ]
  },
  {
   "cell_type": "code",
   "execution_count": 41,
   "metadata": {},
   "outputs": [],
   "source": [
    "total_data = [Redmi9A_data,Redmi9A_data2,weight_150g_data,samsungA12_data,iphone7_data,iphone12_Pro_data,iphone13_data,infinix_data]\n",
    "\n"
   ]
  },
  {
   "cell_type": "code",
   "execution_count": 42,
   "metadata": {},
   "outputs": [],
   "source": [
    "Redmi9A_data_mean = Redmi9A_data['Redmi9A'].mean()\n",
    "Redmi9A_data2_mean = Redmi9A_data2['Redmi9A'].mean()\n",
    "weight_150g_data_mean = weight_150g_data['150g_Weight'].mean()\n",
    "samsungA12_data_mean = samsungA12_data['SamsungA12'].mean()\n",
    "iphone7_data_mean = iphone7_data['iphone7'].mean()\n",
    "iphone12_Pro_data_mean = iphone12_Pro_data['Iphone12Pro'].mean()\n",
    "iphone13_data_mean = iphone13_data['Iphone13'].mean()\n",
    "infinix_data_mean = infinix_data['Infinix'].mean()\n"
   ]
  },
  {
   "cell_type": "code",
   "execution_count": 43,
   "metadata": {},
   "outputs": [
    {
     "name": "stdout",
     "output_type": "stream",
     "text": [
      "8143.66332162569\n",
      "8106.229260935143\n",
      "9448.797283176593\n",
      "7382.424823410696\n",
      "9243.110832497492\n",
      "7816.732563973908\n",
      "7979.666666666667\n",
      "7245.486389316898\n"
     ]
    }
   ],
   "source": [
    "total_mean = [Redmi9A_data_mean,Redmi9A_data2_mean,weight_150g_data_mean,samsungA12_data_mean,iphone7_data_mean,iphone12_Pro_data_mean,iphone13_data_mean,infinix_data_mean]\n",
    "\n",
    "for i in range(8):\n",
    "    print(total_mean[i])"
   ]
  },
  {
   "cell_type": "code",
   "execution_count": 50,
   "metadata": {},
   "outputs": [],
   "source": [
    "Redmi_data_std=Redmi9A_data['Redmi9A'].std()\n",
    "Redmi9A_data2_std =Redmi9A_data2['Redmi9A'].std()\n",
    "Weight_150g_std = weight_150g_data['150g_Weight'].std()\n",
    "samsungA12_data_std = samsungA12_data['SamsungA12'].std()\n",
    "iphone7_data_std = iphone7_data['iphone7'].std()\n",
    "iphone12_data_std= iphone12_Pro_data['Iphone12Pro'].std()\n",
    "iphone13_data_std =  iphone13_data['Iphone13'].std()\n",
    "infinix_data_std = infinix_data['Infinix'].std()"
   ]
  },
  {
   "cell_type": "code",
   "execution_count": 51,
   "metadata": {},
   "outputs": [
    {
     "name": "stdout",
     "output_type": "stream",
     "text": [
      "332.8035537158052\n",
      "230.90362629531128\n",
      "176.22729428305206\n",
      "190.69424467293743\n",
      "179.63254362883703\n",
      "183.216800025394\n",
      "170.0181966014936\n",
      "204.48644267048897\n"
     ]
    }
   ],
   "source": [
    "total_std = [Redmi_data_std,Redmi9A_data2_std,Weight_150g_std,samsungA12_data_std,iphone7_data_std,iphone12_data_std,iphone13_data_std,infinix_data_std]\n",
    "\n",
    "for i in range(8):\n",
    "    print(total_std[i])"
   ]
  },
  {
   "cell_type": "code",
   "execution_count": 57,
   "metadata": {},
   "outputs": [],
   "source": [
    "conv_factor_data_redmi = Redmi9A_data_mean/196\n",
    "conv_factor_data2_redmi = Redmi9A_data2_mean/196\n",
    "conv_factor_data150 = weight_150g_data_mean/150\n",
    "conv_factor_data_samsungA12 = samsungA12_data_mean/205\n",
    "conv_factor_data_iphone7 = iphone7_data_mean/138\n",
    "conv_factor_data_iphone12_pro = iphone12_Pro_data_mean/189\n",
    "conv_factor_data_iphone13 = iphone13_data_mean/174\n",
    "conv_factor_infinix = infinix_data_mean/195"
   ]
  },
  {
   "cell_type": "code",
   "execution_count": 58,
   "metadata": {},
   "outputs": [
    {
     "name": "stdout",
     "output_type": "stream",
     "text": [
      "Conv_factor_mean:  46.65816957307214\n"
     ]
    }
   ],
   "source": [
    "conv_factor_total = conv_factor_data_redmi+conv_factor_data2_redmi+conv_factor_data150+conv_factor_data_samsungA12+conv_factor_data_iphone7+conv_factor_data_iphone12_pro+conv_factor_data_iphone13+conv_factor_infinix\n",
    "conv_factor_mean = conv_factor_total / 8\n",
    "print('Conv_factor_mean: ',conv_factor_mean)"
   ]
  },
  {
   "cell_type": "code",
   "execution_count": 55,
   "metadata": {},
   "outputs": [
    {
     "name": "stdout",
     "output_type": "stream",
     "text": [
      "Conv_factor Standard Deviation:  11.504320352652268\n"
     ]
    }
   ],
   "source": [
    "conv_factor_data = [conv_factor_data_redmi,conv_factor_data2_redmi,conv_factor_data150,conv_factor_data_samsungA12,conv_factor_data_iphone7,conv_factor_data_iphone12_pro,conv_factor_data_iphone13,conv_factor_infinix]\n",
    "pd_data= pd.DataFrame({'Conv_Factor':conv_factor_data})\n",
    "conv_factor_std = pd_data['Conv_Factor'].std()\n",
    "print(\"Conv_factor Standard Deviation: \",conv_factor_std)"
   ]
  },
  {
   "cell_type": "code",
   "execution_count": 61,
   "metadata": {},
   "outputs": [
    {
     "data": {
      "text/html": [
       "<div>\n",
       "<style scoped>\n",
       "    .dataframe tbody tr th:only-of-type {\n",
       "        vertical-align: middle;\n",
       "    }\n",
       "\n",
       "    .dataframe tbody tr th {\n",
       "        vertical-align: top;\n",
       "    }\n",
       "\n",
       "    .dataframe thead th {\n",
       "        text-align: right;\n",
       "    }\n",
       "</style>\n",
       "<table border=\"1\" class=\"dataframe\">\n",
       "  <thead>\n",
       "    <tr style=\"text-align: right;\">\n",
       "      <th></th>\n",
       "      <th>Mean</th>\n",
       "      <th>Standard Deviation</th>\n",
       "      <th>Conversion Factor</th>\n",
       "      <th>Weight_Online(g)</th>\n",
       "    </tr>\n",
       "  </thead>\n",
       "  <tbody>\n",
       "    <tr>\n",
       "      <th>Redmi 9A</th>\n",
       "      <td>8143.663322</td>\n",
       "      <td>332.803554</td>\n",
       "      <td>41.549303</td>\n",
       "      <td>196</td>\n",
       "    </tr>\n",
       "    <tr>\n",
       "      <th>Redmi2 9A</th>\n",
       "      <td>8106.229261</td>\n",
       "      <td>230.903626</td>\n",
       "      <td>41.358313</td>\n",
       "      <td>196</td>\n",
       "    </tr>\n",
       "    <tr>\n",
       "      <th>150g_Metal</th>\n",
       "      <td>9448.797283</td>\n",
       "      <td>176.227294</td>\n",
       "      <td>62.991982</td>\n",
       "      <td>150</td>\n",
       "    </tr>\n",
       "    <tr>\n",
       "      <th>SamsungA12</th>\n",
       "      <td>7382.424823</td>\n",
       "      <td>190.694245</td>\n",
       "      <td>38.053736</td>\n",
       "      <td>205</td>\n",
       "    </tr>\n",
       "    <tr>\n",
       "      <th>Iphone7</th>\n",
       "      <td>9243.110832</td>\n",
       "      <td>179.632544</td>\n",
       "      <td>66.979064</td>\n",
       "      <td>138</td>\n",
       "    </tr>\n",
       "    <tr>\n",
       "      <th>Iphone12 Pro</th>\n",
       "      <td>7816.732564</td>\n",
       "      <td>183.216800</td>\n",
       "      <td>41.358373</td>\n",
       "      <td>189</td>\n",
       "    </tr>\n",
       "    <tr>\n",
       "      <th>Iphone13</th>\n",
       "      <td>7979.666667</td>\n",
       "      <td>170.018197</td>\n",
       "      <td>45.860153</td>\n",
       "      <td>174</td>\n",
       "    </tr>\n",
       "    <tr>\n",
       "      <th>Infinix</th>\n",
       "      <td>7245.486389</td>\n",
       "      <td>204.486443</td>\n",
       "      <td>37.156340</td>\n",
       "      <td>195</td>\n",
       "    </tr>\n",
       "  </tbody>\n",
       "</table>\n",
       "</div>"
      ],
      "text/plain": [
       "                     Mean  Standard Deviation  Conversion Factor  \\\n",
       "Redmi 9A      8143.663322          332.803554          41.549303   \n",
       "Redmi2 9A     8106.229261          230.903626          41.358313   \n",
       "150g_Metal    9448.797283          176.227294          62.991982   \n",
       "SamsungA12    7382.424823          190.694245          38.053736   \n",
       "Iphone7       9243.110832          179.632544          66.979064   \n",
       "Iphone12 Pro  7816.732564          183.216800          41.358373   \n",
       "Iphone13      7979.666667          170.018197          45.860153   \n",
       "Infinix       7245.486389          204.486443          37.156340   \n",
       "\n",
       "              Weight_Online(g)  \n",
       "Redmi 9A                   196  \n",
       "Redmi2 9A                  196  \n",
       "150g_Metal                 150  \n",
       "SamsungA12                 205  \n",
       "Iphone7                    138  \n",
       "Iphone12 Pro               189  \n",
       "Iphone13                   174  \n",
       "Infinix                    195  "
      ]
     },
     "execution_count": 61,
     "metadata": {},
     "output_type": "execute_result"
    }
   ],
   "source": [
    "data = {'Mean':total_mean,'Standard Deviation':total_std,'Conversion Factor':conv_factor_data,'Weight_Online(g)':[196,196,150,205,138,189,174,195]}\n",
    "df = pd.DataFrame(data, index = ['Redmi 9A','Redmi2 9A','150g_Metal','SamsungA12','Iphone7','Iphone12 Pro','Iphone13','Infinix'])\n",
    "df"
   ]
  },
  {
   "cell_type": "code",
   "execution_count": 62,
   "metadata": {},
   "outputs": [
    {
     "data": {
      "text/plain": [
       "Redmi 9A       -0.959133\n",
       "Redmi2 9A      -0.971515\n",
       "150g_Metal     -0.981349\n",
       "SamsungA12     -0.974169\n",
       "Iphone7        -0.980566\n",
       "Iphone12 Pro   -0.976561\n",
       "Iphone13       -0.978694\n",
       "Infinix        -0.971777\n",
       "dtype: float64"
      ]
     },
     "execution_count": 62,
     "metadata": {},
     "output_type": "execute_result"
    }
   ],
   "source": [
    "(df['Standard Deviation']-df.Mean)/df.Mean"
   ]
  }
 ],
 "metadata": {
  "kernelspec": {
   "display_name": "base",
   "language": "python",
   "name": "python3"
  },
  "language_info": {
   "codemirror_mode": {
    "name": "ipython",
    "version": 3
   },
   "file_extension": ".py",
   "mimetype": "text/x-python",
   "name": "python",
   "nbconvert_exporter": "python",
   "pygments_lexer": "ipython3",
   "version": "3.9.12"
  },
  "orig_nbformat": 4
 },
 "nbformat": 4,
 "nbformat_minor": 2
}
