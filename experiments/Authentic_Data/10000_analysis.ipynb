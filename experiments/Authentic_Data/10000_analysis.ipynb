{
 "cells": [
  {
   "cell_type": "code",
   "execution_count": 57,
   "metadata": {},
   "outputs": [],
   "source": [
    "import pandas as pd\n",
    "weight_150g_data = pd.read_csv('10000_samples_150g.csv')\n",
    "iphone11_pro_data = pd.read_csv('10000_samples_iphone11_Pro.csv')\n",
    "iphone11_data = pd.read_csv('10000_samples_iphone11.csv')\n",
    "iphone14_data = pd.read_csv('10000_samples_iphone14.csv')\n",
    "redmi9A_data = pd.read_csv('10000_samples_redmi9A.csv')\n",
    "redmi9A_2_data = pd.read_csv('10000_samples_redmi9A_2.csv')\n",
    "samsungA12_data = pd.read_csv('10000_samples_Samsung_A12.csv')\n",
    "samsungA12_2_data = pd.read_csv('10000_samples_samsungA12_Usman.csv')\n",
    "infinix_smart7_data = pd.read_csv('10000_samples_infinix7.csv')\n",
    "iphone_7_data = pd.read_csv(\"10000_samples_iphone7.csv\")"
   ]
  },
  {
   "cell_type": "code",
   "execution_count": 58,
   "metadata": {},
   "outputs": [
    {
     "name": "stdout",
     "output_type": "stream",
     "text": [
      "7937.239226297856\n",
      "7210.80965738329\n",
      "8054.818017837459\n",
      "8381.89429916842\n",
      "8042.2206633931255\n",
      "7634.597013429545\n",
      "7274.093104830627\n",
      "7854.427139707356\n",
      "7712.817963111467\n"
     ]
    }
   ],
   "source": [
    "weight_150g_data_mean = weight_150g_data['150g_weight'].mean()\n",
    "iphone11_pro_data_mean = iphone11_pro_data['iphone11'].mean()\n",
    "iphone11_data_mean = iphone11_data['iphone11'].mean()\n",
    "iphone14_data_mean = iphone14_data['iphone14'].mean()\n",
    "redmi9A_data_mean = redmi9A_data['Redmi9A'].mean()\n",
    "redmi9A_2_data_mean = redmi9A_2_data['Redmi9A'].mean()\n",
    "samsungA12_data_mean = samsungA12_data['samsung_A12'].mean()\n",
    "samsungA12_2_data_mean = samsungA12_2_data['samsung_A12'].mean()\n",
    "infinix_smart7_data_mean = infinix_smart7_data['infinix'].mean()\n",
    "iphone7_data_mean = iphone_7_data['iphone7'].mean()\n",
    "\n",
    "total_mean = [weight_150g_data_mean,iphone11_pro_data_mean,iphone11_data_mean,iphone14_data_mean,redmi9A_data_mean,redmi9A_2_data_mean,samsungA12_data_mean,samsungA12_2_data_mean,infinix_smart7_data_mean,iphone7_data_mean]\n",
    "\n",
    "for i in range(9):\n",
    "    print(total_mean[i])"
   ]
  },
  {
   "cell_type": "code",
   "execution_count": 59,
   "metadata": {},
   "outputs": [
    {
     "name": "stdout",
     "output_type": "stream",
     "text": [
      "63295.08682280025\n",
      "211.80114946818227\n",
      "299.518969517561\n",
      "720.2626715168035\n",
      "7540.02028323048\n",
      "10662.421903235501\n",
      "7525.457474606783\n",
      "7538.1982359736285\n",
      "7532.708618496373\n",
      "360.83424169486756\n"
     ]
    }
   ],
   "source": [
    "weight_150g_data_std = weight_150g_data['150g_weight'].std()\n",
    "iphone11_pro_data_std = iphone11_pro_data['iphone11'].std()\n",
    "iphone11_data_std = iphone11_data['iphone11'].std()\n",
    "iphone14_data_std = iphone14_data['iphone14'].std()\n",
    "redmi9A_data_std = redmi9A_data['Redmi9A'].std()\n",
    "redmi9A_2_data_std = redmi9A_2_data['Redmi9A'].std()\n",
    "samsungA12_data_std = samsungA12_data['samsung_A12'].std()\n",
    "samsungA12_2_data_std = samsungA12_2_data['samsung_A12'].std()\n",
    "infinix_smart7_data_std = infinix_smart7_data['infinix'].std()\n",
    "iphone_7_data_std = iphone_7_data['iphone7'].std()\n",
    "\n",
    "total_std = [weight_150g_data_std,iphone11_pro_data_std,iphone11_data_std,iphone14_data_std,redmi9A_data_std,redmi9A_2_data_std,samsungA12_data_std,samsungA12_2_data_std,infinix_smart7_data_std,iphone_7_data_std]\n",
    "\n",
    "for i in range(10):\n",
    "    print(total_std[i])"
   ]
  },
  {
   "cell_type": "code",
   "execution_count": 60,
   "metadata": {},
   "outputs": [
    {
     "name": "stdout",
     "output_type": "stream",
     "text": [
      "Conv_factor_mean:  37.48562588155014\n"
     ]
    }
   ],
   "source": [
    "conv_factor_data_150g = weight_150g_data_mean/150\n",
    "conv_factor_data_iphone11_pro = iphone11_pro_data_mean/188\n",
    "conv_factor_data_iphone11 = iphone11_data_mean/194\n",
    "conv_factor_data_iphone14 = iphone14_data_mean/172\n",
    "conv_factor_data_redmi = redmi9A_data_mean/196\n",
    "conv_factor_data2_redmi = redmi9A_2_data_mean/196\n",
    "conv_factor_data_samsungA12 = samsungA12_data_mean/205\n",
    "conv_factor_data2_samsungA12 = samsungA12_2_data_mean/205\n",
    "conv_factor_data_infinix = infinix_smart7_data_mean/195\n",
    "conv_factor_data_iphone7 = iphone7_data_mean/138\n",
    "\n",
    "conv_factor_total = conv_factor_data_150g+conv_factor_data_iphone11_pro+conv_factor_data_iphone11+conv_factor_data_iphone14+conv_factor_data_redmi+conv_factor_data2_redmi+conv_factor_data_samsungA12+conv_factor_data2_samsungA12+conv_factor_data_infinix\n",
    "+conv_factor_data_iphone7\n",
    "\n",
    "conv_factor_mean = conv_factor_total / 10\n",
    "print('Conv_factor_mean: ',conv_factor_mean)"
   ]
  },
  {
   "cell_type": "code",
   "execution_count": 61,
   "metadata": {},
   "outputs": [
    {
     "name": "stdout",
     "output_type": "stream",
     "text": [
      "Conv_factor Standard Deviation:  9.4819014636488\n"
     ]
    }
   ],
   "source": [
    "conv_factor_data = [conv_factor_data_150g,conv_factor_data_iphone11_pro,conv_factor_data_iphone11\n",
    ",conv_factor_data_iphone14,conv_factor_data_redmi\n",
    ",conv_factor_data2_redmi,conv_factor_data_samsungA12\n",
    ",conv_factor_data2_samsungA12,conv_factor_data_infinix,conv_factor_data_iphone7]\n",
    "\n",
    "pd_data= pd.DataFrame({'Conv_Factor':conv_factor_data})\n",
    "conv_factor_std = pd_data['Conv_Factor'].std()\n",
    "print(\"Conv_factor Standard Deviation: \",conv_factor_std)"
   ]
  },
  {
   "cell_type": "code",
   "execution_count": 62,
   "metadata": {},
   "outputs": [
    {
     "data": {
      "text/html": [
       "<div>\n",
       "<style scoped>\n",
       "    .dataframe tbody tr th:only-of-type {\n",
       "        vertical-align: middle;\n",
       "    }\n",
       "\n",
       "    .dataframe tbody tr th {\n",
       "        vertical-align: top;\n",
       "    }\n",
       "\n",
       "    .dataframe thead th {\n",
       "        text-align: right;\n",
       "    }\n",
       "</style>\n",
       "<table border=\"1\" class=\"dataframe\">\n",
       "  <thead>\n",
       "    <tr style=\"text-align: right;\">\n",
       "      <th></th>\n",
       "      <th>Mean</th>\n",
       "      <th>Standard_Deviation</th>\n",
       "      <th>Conversion Factor</th>\n",
       "      <th>Weight_Online(g)</th>\n",
       "    </tr>\n",
       "  </thead>\n",
       "  <tbody>\n",
       "    <tr>\n",
       "      <th>150g_Metal</th>\n",
       "      <td>7937.239226</td>\n",
       "      <td>63295.086823</td>\n",
       "      <td>52.914928</td>\n",
       "      <td>150</td>\n",
       "    </tr>\n",
       "    <tr>\n",
       "      <th>Iphone11 Pro</th>\n",
       "      <td>7210.809657</td>\n",
       "      <td>211.801149</td>\n",
       "      <td>38.355371</td>\n",
       "      <td>188</td>\n",
       "    </tr>\n",
       "    <tr>\n",
       "      <th>iphone11</th>\n",
       "      <td>8054.818018</td>\n",
       "      <td>299.518970</td>\n",
       "      <td>41.519681</td>\n",
       "      <td>194</td>\n",
       "    </tr>\n",
       "    <tr>\n",
       "      <th>Iphone14</th>\n",
       "      <td>8381.894299</td>\n",
       "      <td>720.262672</td>\n",
       "      <td>48.731944</td>\n",
       "      <td>172</td>\n",
       "    </tr>\n",
       "    <tr>\n",
       "      <th>Redmi 9A</th>\n",
       "      <td>8042.220663</td>\n",
       "      <td>7540.020283</td>\n",
       "      <td>41.031738</td>\n",
       "      <td>196</td>\n",
       "    </tr>\n",
       "    <tr>\n",
       "      <th>Redmi2 9A</th>\n",
       "      <td>7634.597013</td>\n",
       "      <td>10662.421903</td>\n",
       "      <td>38.952026</td>\n",
       "      <td>196</td>\n",
       "    </tr>\n",
       "    <tr>\n",
       "      <th>Samsung_A12</th>\n",
       "      <td>7274.093105</td>\n",
       "      <td>7525.457475</td>\n",
       "      <td>35.483381</td>\n",
       "      <td>205</td>\n",
       "    </tr>\n",
       "    <tr>\n",
       "      <th>Samsung2_A12</th>\n",
       "      <td>7854.427140</td>\n",
       "      <td>7538.198236</td>\n",
       "      <td>38.314279</td>\n",
       "      <td>205</td>\n",
       "    </tr>\n",
       "    <tr>\n",
       "      <th>infinix</th>\n",
       "      <td>7712.817963</td>\n",
       "      <td>7532.708618</td>\n",
       "      <td>39.552913</td>\n",
       "      <td>195</td>\n",
       "    </tr>\n",
       "    <tr>\n",
       "      <th>iphone7</th>\n",
       "      <td>9190.184350</td>\n",
       "      <td>360.834242</td>\n",
       "      <td>66.595539</td>\n",
       "      <td>138</td>\n",
       "    </tr>\n",
       "  </tbody>\n",
       "</table>\n",
       "</div>"
      ],
      "text/plain": [
       "                     Mean  Standard_Deviation  Conversion Factor  \\\n",
       "150g_Metal    7937.239226        63295.086823          52.914928   \n",
       "Iphone11 Pro  7210.809657          211.801149          38.355371   \n",
       "iphone11      8054.818018          299.518970          41.519681   \n",
       "Iphone14      8381.894299          720.262672          48.731944   \n",
       "Redmi 9A      8042.220663         7540.020283          41.031738   \n",
       "Redmi2 9A     7634.597013        10662.421903          38.952026   \n",
       "Samsung_A12   7274.093105         7525.457475          35.483381   \n",
       "Samsung2_A12  7854.427140         7538.198236          38.314279   \n",
       "infinix       7712.817963         7532.708618          39.552913   \n",
       "iphone7       9190.184350          360.834242          66.595539   \n",
       "\n",
       "              Weight_Online(g)  \n",
       "150g_Metal                 150  \n",
       "Iphone11 Pro               188  \n",
       "iphone11                   194  \n",
       "Iphone14                   172  \n",
       "Redmi 9A                   196  \n",
       "Redmi2 9A                  196  \n",
       "Samsung_A12                205  \n",
       "Samsung2_A12               205  \n",
       "infinix                    195  \n",
       "iphone7                    138  "
      ]
     },
     "execution_count": 62,
     "metadata": {},
     "output_type": "execute_result"
    }
   ],
   "source": [
    "data = {'Mean':total_mean,'Standard_Deviation':total_std,\n",
    "'Conversion Factor':conv_factor_data,'Weight_Online(g)':[150,188,\n",
    "194,172,196,196,205,205,195,138]}\n",
    "df = pd.DataFrame(data, index = ['150g_Metal','Iphone11 Pro','iphone11','Iphone14','Redmi 9A','Redmi2 9A'\n",
    ",'Samsung_A12','Samsung2_A12','infinix','iphone7'])\n",
    "df"
   ]
  },
  {
   "cell_type": "code",
   "execution_count": 63,
   "metadata": {},
   "outputs": [
    {
     "data": {
      "text/plain": [
       "150g_Metal      6.974446\n",
       "Iphone11 Pro   -0.970627\n",
       "iphone11       -0.962815\n",
       "Iphone14       -0.914069\n",
       "Redmi 9A       -0.062445\n",
       "Redmi2 9A       0.396593\n",
       "Samsung_A12     0.034556\n",
       "Samsung2_A12   -0.040261\n",
       "infinix        -0.023352\n",
       "iphone7        -0.960737\n",
       "dtype: float64"
      ]
     },
     "execution_count": 63,
     "metadata": {},
     "output_type": "execute_result"
    }
   ],
   "source": [
    "(df['Standard_Deviation']-df.Mean)/df.Mean"
   ]
  },
  {
   "cell_type": "code",
   "execution_count": 64,
   "metadata": {},
   "outputs": [
    {
     "data": {
      "text/plain": [
       "150g_Metal      797.444615\n",
       "Iphone11 Pro      2.937273\n",
       "iphone11          3.718507\n",
       "Iphone14          8.593077\n",
       "Redmi 9A         93.755451\n",
       "Redmi2 9A       139.659263\n",
       "Samsung_A12     103.455611\n",
       "Samsung2_A12     95.973877\n",
       "infinix          97.664805\n",
       "iphone7           3.926300\n",
       "dtype: float64"
      ]
     },
     "execution_count": 64,
     "metadata": {},
     "output_type": "execute_result"
    }
   ],
   "source": [
    "((df['Standard_Deviation'])/df.Mean) * 100"
   ]
  },
  {
   "cell_type": "code",
   "execution_count": null,
   "metadata": {},
   "outputs": [],
   "source": []
  }
 ],
 "metadata": {
  "kernelspec": {
   "display_name": "base",
   "language": "python",
   "name": "python3"
  },
  "language_info": {
   "codemirror_mode": {
    "name": "ipython",
    "version": 3
   },
   "file_extension": ".py",
   "mimetype": "text/x-python",
   "name": "python",
   "nbconvert_exporter": "python",
   "pygments_lexer": "ipython3",
   "version": "3.9.12"
  },
  "orig_nbformat": 4
 },
 "nbformat": 4,
 "nbformat_minor": 2
}
